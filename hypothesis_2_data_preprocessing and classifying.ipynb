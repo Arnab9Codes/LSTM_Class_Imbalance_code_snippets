{
 "cells": [
  {
   "cell_type": "code",
   "execution_count": 1,
   "metadata": {},
   "outputs": [],
   "source": [
    "import os\n",
    "import torch \n",
    "from torch import nn\n",
    "import torch.nn.functional as F\n",
    "from sklearn import preprocessing\n",
    "import pandas as pd\n",
    "import numpy as np\n",
    "from sklearn.metrics import f1_score"
   ]
  },
  {
   "cell_type": "code",
   "execution_count": 2,
   "metadata": {},
   "outputs": [],
   "source": [
    "from data_cleaning import clean, seq_gen, get_Xy, make_homogenous_sequence"
   ]
  },
  {
   "cell_type": "code",
   "execution_count": 151,
   "metadata": {},
   "outputs": [],
   "source": [
    "FILE_LOCATION=r'C:\\Users\\Asus\\Videos\\paper lstm transform\\rethesis2014arnab\\NonSMOTE\\NonSMOTE\\yeast5\\yeast5-5-fold'\n",
    "TRAIN_DATA='yeast5-5-5tra.dat'\n",
    "TEST_DATA='yeast5-5-5tst.dat'\n",
    "TRAIN_DATA_=os.path.join(FILE_LOCATION,TRAIN_DATA)\n",
    "TEST_DATA_=os.path.join(FILE_LOCATION, TEST_DATA)"
   ]
  },
  {
   "cell_type": "code",
   "execution_count": 152,
   "metadata": {},
   "outputs": [],
   "source": [
    "train_data=clean(TRAIN_DATA_)"
   ]
  },
  {
   "cell_type": "code",
   "execution_count": 153,
   "metadata": {},
   "outputs": [
    {
     "data": {
      "text/html": [
       "<div>\n",
       "<style scoped>\n",
       "    .dataframe tbody tr th:only-of-type {\n",
       "        vertical-align: middle;\n",
       "    }\n",
       "\n",
       "    .dataframe tbody tr th {\n",
       "        vertical-align: top;\n",
       "    }\n",
       "\n",
       "    .dataframe thead th {\n",
       "        text-align: right;\n",
       "    }\n",
       "</style>\n",
       "<table border=\"1\" class=\"dataframe\">\n",
       "  <thead>\n",
       "    <tr style=\"text-align: right;\">\n",
       "      <th></th>\n",
       "      <th>0</th>\n",
       "      <th>1</th>\n",
       "      <th>2</th>\n",
       "      <th>3</th>\n",
       "      <th>4</th>\n",
       "      <th>5</th>\n",
       "      <th>6</th>\n",
       "      <th>7</th>\n",
       "      <th>8</th>\n",
       "    </tr>\n",
       "  </thead>\n",
       "  <tbody>\n",
       "    <tr>\n",
       "      <th>0</th>\n",
       "      <td>0.58</td>\n",
       "      <td>0.61</td>\n",
       "      <td>0.47</td>\n",
       "      <td>0.13</td>\n",
       "      <td>0.5</td>\n",
       "      <td>0.0</td>\n",
       "      <td>0.48</td>\n",
       "      <td>0.22</td>\n",
       "      <td>0</td>\n",
       "    </tr>\n",
       "    <tr>\n",
       "      <th>1</th>\n",
       "      <td>0.43</td>\n",
       "      <td>0.67</td>\n",
       "      <td>0.48</td>\n",
       "      <td>0.27</td>\n",
       "      <td>0.5</td>\n",
       "      <td>0.0</td>\n",
       "      <td>0.53</td>\n",
       "      <td>0.22</td>\n",
       "      <td>0</td>\n",
       "    </tr>\n",
       "    <tr>\n",
       "      <th>2</th>\n",
       "      <td>0.58</td>\n",
       "      <td>0.44</td>\n",
       "      <td>0.57</td>\n",
       "      <td>0.13</td>\n",
       "      <td>0.5</td>\n",
       "      <td>0.0</td>\n",
       "      <td>0.54</td>\n",
       "      <td>0.22</td>\n",
       "      <td>0</td>\n",
       "    </tr>\n",
       "    <tr>\n",
       "      <th>3</th>\n",
       "      <td>0.42</td>\n",
       "      <td>0.44</td>\n",
       "      <td>0.48</td>\n",
       "      <td>0.54</td>\n",
       "      <td>0.5</td>\n",
       "      <td>0.0</td>\n",
       "      <td>0.48</td>\n",
       "      <td>0.22</td>\n",
       "      <td>0</td>\n",
       "    </tr>\n",
       "    <tr>\n",
       "      <th>4</th>\n",
       "      <td>0.51</td>\n",
       "      <td>0.40</td>\n",
       "      <td>0.56</td>\n",
       "      <td>0.17</td>\n",
       "      <td>0.5</td>\n",
       "      <td>0.5</td>\n",
       "      <td>0.49</td>\n",
       "      <td>0.22</td>\n",
       "      <td>0</td>\n",
       "    </tr>\n",
       "  </tbody>\n",
       "</table>\n",
       "</div>"
      ],
      "text/plain": [
       "      0     1     2     3    4    5     6     7  8\n",
       "0  0.58  0.61  0.47  0.13  0.5  0.0  0.48  0.22  0\n",
       "1  0.43  0.67  0.48  0.27  0.5  0.0  0.53  0.22  0\n",
       "2  0.58  0.44  0.57  0.13  0.5  0.0  0.54  0.22  0\n",
       "3  0.42  0.44  0.48  0.54  0.5  0.0  0.48  0.22  0\n",
       "4  0.51  0.40  0.56  0.17  0.5  0.5  0.49  0.22  0"
      ]
     },
     "execution_count": 153,
     "metadata": {},
     "output_type": "execute_result"
    }
   ],
   "source": [
    "train_data.head()"
   ]
  },
  {
   "cell_type": "code",
   "execution_count": 154,
   "metadata": {},
   "outputs": [],
   "source": [
    "def seq_generation(data, pos=0, mj=0, mn=1):\n",
    "    '''\n",
    "    input: data of DataFrame, mj: majority class label, mn: minority class label\n",
    "    \n",
    "    output: numpy tensor of shape (timsteps, 2*min_sample_size, features)\n",
    "            at each timestep, majority class and minority class samples distribution is equal\n",
    "    '''\n",
    "    data_mj=data[data[str(len(data.columns)-1)]==mj]\n",
    "    data_mj=np.array(data_mj)\n",
    "    data_mn=data[data[str(len(data.columns)-1)]==mn]\n",
    "    data_mn=np.array(data_mn)\n",
    "    \n",
    "    majority_data_iterator=0\n",
    "    \n",
    "    '''seq_len is the number of timesteps.'''\n",
    "\n",
    "    seq_len=(data_mj.shape[0]//data_mn.shape[0])+1\n",
    "\n",
    "    '''batch_size = number of minority samples'''\n",
    "    #print('data_mj shape:', data_mj.shape)\n",
    "    #print('data_mn shape:', data_mn.shape)\n",
    "    \n",
    "    batch_size=data_mn.shape[0]\n",
    "    #print('batch_size:', batch_size)\n",
    "    seq=np.zeros((seq_len, data_mn.shape[0], data_mn.shape[1]))\n",
    "    #print('sequence shape:', seq.shape)\n",
    "    #print('data_mj[]:', data_mj[2*batch_size:2*batch_size+batch_size].shape)\n",
    "    \n",
    "    for i in range(seq_len):\n",
    "        if i!=pos:\n",
    "            seq[i]=data_mj[(majority_data_iterator*batch_size):( (majority_data_iterator*batch_size)+batch_size)]\n",
    "            majority_data_iterator+majority_data_iterator+1\n",
    "            \n",
    "        else:\n",
    "            seq[i]=data_mn\n",
    "            #print('data')\n",
    "            #print(seq[i].shape)\n",
    "    return seq"
   ]
  },
  {
   "cell_type": "code",
   "execution_count": 155,
   "metadata": {},
   "outputs": [],
   "source": [
    "seq=seq_generation(train_data,0)"
   ]
  },
  {
   "cell_type": "code",
   "execution_count": 156,
   "metadata": {},
   "outputs": [],
   "source": [
    "trainx,trainy=get_Xy(seq)"
   ]
  },
  {
   "cell_type": "code",
   "execution_count": 157,
   "metadata": {},
   "outputs": [],
   "source": [
    "trainx=torch.from_numpy(trainx).float()\n",
    "trainy=torch.from_numpy(trainy).float()"
   ]
  },
  {
   "cell_type": "code",
   "execution_count": 158,
   "metadata": {},
   "outputs": [],
   "source": [
    "test_data=clean(TEST_DATA_).values\n",
    "testx=torch.from_numpy(test_data[:,:-1]).float()\n",
    "testy=torch.from_numpy(test_data[:,-1]).float()"
   ]
  },
  {
   "cell_type": "code",
   "execution_count": 159,
   "metadata": {},
   "outputs": [],
   "source": [
    "class Model(nn.Module):\n",
    "    def __init__(self):\n",
    "        super().__init__()\n",
    "        self.lstm=nn.LSTMCell(8,32)\n",
    "        self.l=nn.Linear(32,1)\n",
    "    \n",
    "    def forward(self,x):\n",
    "        output,_=self.lstm(x)\n",
    "        output=self.l(output)\n",
    "        \n",
    "        return output"
   ]
  },
  {
   "cell_type": "code",
   "execution_count": 160,
   "metadata": {},
   "outputs": [],
   "source": [
    "m=Model()"
   ]
  },
  {
   "cell_type": "code",
   "execution_count": 161,
   "metadata": {},
   "outputs": [],
   "source": [
    "criterion=nn.BCEWithLogitsLoss()\n",
    "optimizer=torch.optim.SGD(m.parameters(),lr=0.09)"
   ]
  },
  {
   "cell_type": "code",
   "execution_count": 162,
   "metadata": {},
   "outputs": [],
   "source": [
    "from torch.autograd import Variable\n",
    "def train_epoch(model,optim,criterion,trainx,trainy):\n",
    "    model.train()\n",
    "    loss=0\n",
    "    losses=[]\n",
    "    optim.zero_grad()\n",
    "    l=0\n",
    "    for i in range(trainx.shape[0]):\n",
    "        n=model(trainx[i])\n",
    "        l=l+criterion(n,trainy[i].view(trainy[i].shape[0],1))\n",
    "        #l.backward(retain_graph=True) #this works too\n",
    "        \n",
    "        #if i==(trainx.shape[0]-1):\n",
    "         #   losses.append(l.data.numpy())\n",
    "    losses.append(l.data.numpy())\n",
    "    loss=l\n",
    "    loss.backward()\n",
    "    optim.step()\n",
    "\n",
    "    return losses"
   ]
  },
  {
   "cell_type": "code",
   "execution_count": 163,
   "metadata": {},
   "outputs": [],
   "source": [
    "e_losses = []\n",
    "num_epochs = 20\n",
    "for i in range(2000):\n",
    "    \n",
    "    train_seq=seq_generation(train_data,i%32)\n",
    "    trainx, trainy=get_Xy(train_seq)\n",
    "    trainx=torch.from_numpy(trainx).float()\n",
    "    trainy=torch.from_numpy(trainy).float()\n",
    "    e_losses+=train_epoch(m,optimizer,criterion,trainx,trainy)"
   ]
  },
  {
   "cell_type": "code",
   "execution_count": 164,
   "metadata": {},
   "outputs": [],
   "source": [
    "import matplotlib.pyplot as plt"
   ]
  },
  {
   "cell_type": "code",
   "execution_count": 165,
   "metadata": {},
   "outputs": [
    {
     "data": {
      "text/plain": [
       "[<matplotlib.lines.Line2D at 0x93276b9a08>]"
      ]
     },
     "execution_count": 165,
     "metadata": {},
     "output_type": "execute_result"
    },
    {
     "data": {
      "image/png": "[encoded data removed]",
      "text/plain": [
       "<Figure size 432x288 with 1 Axes>"
      ]
     },
     "metadata": {
      "needs_background": "light"
     },
     "output_type": "display_data"
    }
   ],
   "source": [
    "plt.plot(e_losses)"
   ]
  },
  {
   "cell_type": "code",
   "execution_count": 166,
   "metadata": {},
   "outputs": [],
   "source": [
    "m.eval()\n",
    "\n",
    "with torch.no_grad():\n",
    "    logit_predictions=m(testx)\n",
    "    prediction_probabilities=torch.sigmoid(logit_predictions)\n",
    "    \n",
    "    preds=torch.round(prediction_probabilities)\n",
    "    "
   ]
  },
  {
   "cell_type": "code",
   "execution_count": 167,
   "metadata": {},
   "outputs": [
    {
     "data": {
      "text/plain": [
       "0.4999999999999999"
      ]
     },
     "execution_count": 167,
     "metadata": {},
     "output_type": "execute_result"
    }
   ],
   "source": [
    "f1_score(preds,testy)"
   ]
  },
  {
   "cell_type": "code",
   "execution_count": 77,
   "metadata": {},
   "outputs": [
    {
     "data": {
      "text/plain": [
       "5"
      ]
     },
     "execution_count": 77,
     "metadata": {},
     "output_type": "execute_result"
    }
   ],
   "source": [
    "5%14"
   ]
  },
  {
   "cell_type": "code",
   "execution_count": null,
   "metadata": {},
   "outputs": [],
   "source": []
  }
 ],
 "metadata": {
  "kernelspec": {
   "display_name": "Python 3",
   "language": "python",
   "name": "python3"
  },
  "language_info": {
   "codemirror_mode": {
    "name": "ipython",
    "version": 3
   },
   "file_extension": ".py",
   "mimetype": "text/x-python",
   "name": "python",
   "nbconvert_exporter": "python",
   "pygments_lexer": "ipython3",
   "version": "3.7.4"
  }
 },
 "nbformat": 4,
 "nbformat_minor": 2
}
